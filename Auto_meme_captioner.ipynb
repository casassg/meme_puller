{
 "cells": [
  {
   "cell_type": "code",
   "execution_count": 160,
   "metadata": {
    "ExecuteTime": {
     "end_time": "2018-05-01T18:39:24.138113Z",
     "start_time": "2018-05-01T18:39:24.090457Z"
    }
   },
   "outputs": [],
   "source": [
    "import json\n",
    "import logging\n",
    "import urllib\n",
    "import random\n",
    "from IPython.display import Image as I_note\n",
    "from IPython.display import display\n",
    "from IPython.core.display import HTML\n",
    "from multiprocessing.dummy import Pool as ThreadPool\n",
    "from time import sleep\n",
    "# two references for one document\n",
    "from nltk.translate.bleu_score import sentence_bleu\n",
    "\n",
    "import numpy as np\n",
    "import pytesseract  # need to install using pip\n",
    "from PIL import Image  # need to install Pillow using pip\n",
    "from keras.preprocessing import image\n",
    "from keras.applications.inception_v3 import preprocess_input, decode_predictions, InceptionV3\n",
    "\n",
    "from random import randint\n",
    "from pickle import load\n",
    "from keras.models import load_model\n",
    "from keras.preprocessing.sequence import pad_sequences\n",
    "\n",
    "def load_doc(filename):\n",
    "    file = open(filename, 'r')\n",
    "    text = file.read()\n",
    "    file.close()\n",
    "    return text\n",
    "\n",
    "def save_doc(lines, filename):\n",
    "    data = '\\n'.join(lines)\n",
    "    file = open(filename, 'w')\n",
    "    file.write(data)\n",
    "    file.close()"
   ]
  },
  {
   "cell_type": "markdown",
   "metadata": {},
   "source": [
    "# Image captioning"
   ]
  },
  {
   "cell_type": "code",
   "execution_count": 2,
   "metadata": {
    "ExecuteTime": {
     "end_time": "2018-05-01T04:45:44.192219Z",
     "start_time": "2018-05-01T04:45:29.810044Z"
    },
    "collapsed": true
   },
   "outputs": [],
   "source": [
    "cnnmodel = InceptionV3(weights='imagenet')\n",
    "\n",
    "# load the model\n",
    "model = load_model('LangModel2/caption_model_3.h5')\n",
    "tokenizer = load(open('LangModel2/caption_tokenizer_3.pkl', 'rb'))\n",
    "\n",
    "# load cleaned text sequences\n",
    "in_filename = 'LangModel/padded_captions.txt'\n",
    "doc = load_doc(in_filename)\n",
    "lines = doc.split('\\n')\n",
    "\n",
    "#classification_result should be the first predicted type generated from gerard's classifier\n",
    "classification_result = ''\n",
    "#loop through lines and find a caption that begins with the same class\n",
    "#use that as seed_text\n"
   ]
  },
  {
   "cell_type": "code",
   "execution_count": 174,
   "metadata": {
    "ExecuteTime": {
     "end_time": "2018-05-01T18:42:36.500966Z",
     "start_time": "2018-05-01T18:42:36.348683Z"
    }
   },
   "outputs": [],
   "source": [
    "\n",
    "def predict(path):\n",
    "    img = image.load_img(path, target_size=(299, 299))\n",
    "    x = image.img_to_array(img)\n",
    "    x = np.expand_dims(x, axis=0)\n",
    "    x = preprocess_input(x)\n",
    "    preds = cnnmodel.predict(x)\n",
    "    return [m[1] for m in decode_predictions(preds, top=5)[0]]\n",
    "\n",
    "def generate_text(seed_text):\n",
    "    n_words = 12\n",
    "    seq_length = 9\n",
    "    result = list()\n",
    "    in_text = seed_text\n",
    "    index_word = {v: k for k, v in tokenizer.word_index.items()} \n",
    "    # generate a fixed number of words\n",
    "    for _ in range(n_words):\n",
    "        # encode the text as integer\n",
    "        encoded = tokenizer.texts_to_sequences([in_text])[0]\n",
    "        # truncate sequences to a fixed length\n",
    "        encoded = pad_sequences([encoded], maxlen=seq_length, truncating='pre')\n",
    "        # predict probabilities for each word\n",
    "\n",
    "        #USE LINE BELOW TO IGNORE THE STOP WORD FROM BEING CHOSEN IF WE WANT.\n",
    "        #OTHERWISE JUST MORE TRAINING WORKED TO GET RID OF TOO HIGH PROB GIVEN TO NULL VALUES\n",
    "        #print(model.predict_proba(encoded)) \n",
    "        yhat = model.predict_classes(encoded, verbose=0)[0]\n",
    "        \n",
    "        # map predicted word index to word\n",
    "        out_word = index_word[yhat]\n",
    "        \n",
    "#         for word, index in tokenizer.word_index.items():\n",
    "#             if index == yhat:\n",
    "#                 out_word = word\n",
    "#                 break\n",
    "        # append to input\n",
    "        in_text += ' ' + out_word\n",
    "        result.append(out_word)\n",
    "    return result\n",
    "\n",
    "def caption(path):\n",
    "    preds = predict(path)\n",
    "    \n",
    "    \n",
    "    \n",
    "#     seed_text = 'STOP STOP STOP STOP STOP STOP STOP STOP STOP '+pred\n",
    "    seed_text = 'STOP '+' STOP '.join(preds) \n",
    "    result = generate_text(seed_text)\n",
    "\n",
    "    #seq_length = len(seed_text)\n",
    "\n",
    "   \n",
    "    return seed_text,' '.join(result)\n",
    "\n",
    "def multi_caption(path):\n",
    "    preds = predict(path)\n",
    "    \n",
    "    \n",
    "    \n",
    "#     seed_text = 'STOP STOP STOP STOP STOP STOP STOP STOP STOP '+pred\n",
    "\n",
    "    results = []\n",
    "    for _ in range(5):\n",
    "        seed_text = 'STOP '+' STOP '.join(preds)\n",
    "        results.append(' '.join(generate_text(seed_text)))\n",
    "        random.shuffle(preds)\n",
    "    #seq_length = len(seed_text)\n",
    "\n",
    "   \n",
    "    return seed_text,results"
   ]
  },
  {
   "cell_type": "code",
   "execution_count": 186,
   "metadata": {
    "ExecuteTime": {
     "end_time": "2018-05-01T18:46:14.898836Z",
     "start_time": "2018-05-01T18:46:14.891353Z"
    }
   },
   "outputs": [
    {
     "data": {
      "image/jpeg": "[encoded data removed]",
      "text/plain": [
       "<IPython.core.display.Image object>"
      ]
     },
     "metadata": {
      "image/jpeg": {
       "height": 400,
       "width": 400
      }
     },
     "output_type": "display_data"
    }
   ],
   "source": [
    "path = 'banana.jpeg'\n",
    "display(I_note(path, width=400, height=400))"
   ]
  },
  {
   "cell_type": "code",
   "execution_count": 187,
   "metadata": {
    "ExecuteTime": {
     "end_time": "2018-05-01T18:46:16.563087Z",
     "start_time": "2018-05-01T18:46:16.139634Z"
    }
   },
   "outputs": [
    {
     "name": "stdout",
     "output_type": "stream",
     "text": [
      "memes STOP STOP STOP cost STOP this STOP i say true STOP\n"
     ]
    }
   ],
   "source": [
    "seed,sentence = caption(path)\n",
    "print(sentence)"
   ]
  },
  {
   "cell_type": "markdown",
   "metadata": {},
   "source": [
    "# BLEU evaluation"
   ]
  },
  {
   "cell_type": "code",
   "execution_count": 188,
   "metadata": {
    "ExecuteTime": {
     "end_time": "2018-05-01T18:46:18.635900Z",
     "start_time": "2018-05-01T18:46:17.558907Z"
    }
   },
   "outputs": [
    {
     "name": "stdout",
     "output_type": "stream",
     "text": [
      "['memes STOP STOP STOP cost STOP this STOP i say true STOP', 'STOP i put pretty news STOP STOP STOP STOP STOP my hero', 'STOP i would be lemon STOP and a fluffy pc STOP STOP', 'STOP is work STOP STOP STOP this is time STOP i get', 'STOP STOP this good high that getting time STOP i probably captured']\n"
     ]
    }
   ],
   "source": [
    "seed,sentences = multi_caption(path)\n",
    "print(sentences)"
   ]
  },
  {
   "cell_type": "code",
   "execution_count": 191,
   "metadata": {
    "ExecuteTime": {
     "end_time": "2018-05-01T18:51:11.633086Z",
     "start_time": "2018-05-01T18:51:11.625459Z"
    },
    "collapsed": true
   },
   "outputs": [],
   "source": [
    "def calculate_bleu(path):\n",
    "    seed,sentences = multi_caption(path)\n",
    "    in_filename = 'LangModel2/captions.txt'\n",
    "    reference = [line.split() for line in load_doc(in_filename).splitlines()]\n",
    "\n",
    "    return corpus_bleu([reference for _ in range(len(sentences))], [s.split() for s in sentences])"
   ]
  },
  {
   "cell_type": "code",
   "execution_count": 192,
   "metadata": {
    "ExecuteTime": {
     "end_time": "2018-05-01T18:51:14.777850Z",
     "start_time": "2018-05-01T18:51:12.719252Z"
    }
   },
   "outputs": [
    {
     "name": "stdout",
     "output_type": "stream",
     "text": [
      "0.6779219713470268\n"
     ]
    },
    {
     "name": "stderr",
     "output_type": "stream",
     "text": [
      "/Users/admin/anaconda3/lib/python3.6/site-packages/nltk/translate/bleu_score.py:490: UserWarning: \n",
      "Corpus/Sentence contains 0 counts of 4-gram overlaps.\n",
      "BLEU scores might be undesirable; use SmoothingFunction().\n",
      "  warnings.warn(_msg)\n"
     ]
    }
   ],
   "source": [
    "calculate_bleu(path)\n",
    "print(score)"
   ]
  },
  {
   "cell_type": "code",
   "execution_count": 193,
   "metadata": {
    "ExecuteTime": {
     "end_time": "2018-05-01T18:53:04.700873Z",
     "start_time": "2018-05-01T18:52:46.127642Z"
    }
   },
   "outputs": [
    {
     "name": "stderr",
     "output_type": "stream",
     "text": [
      "/Users/admin/anaconda3/lib/python3.6/site-packages/nltk/translate/bleu_score.py:490: UserWarning: \n",
      "Corpus/Sentence contains 0 counts of 3-gram overlaps.\n",
      "BLEU scores might be undesirable; use SmoothingFunction().\n",
      "  warnings.warn(_msg)\n",
      "/Users/admin/anaconda3/lib/python3.6/site-packages/nltk/translate/bleu_score.py:490: UserWarning: \n",
      "Corpus/Sentence contains 0 counts of 4-gram overlaps.\n",
      "BLEU scores might be undesirable; use SmoothingFunction().\n",
      "  warnings.warn(_msg)\n"
     ]
    }
   ],
   "source": [
    "paths = ['banana.jpeg','thanos.png','spongebob.jpg','steve.jpg','superbowl.jpeg','zuck.jpg','doge.jpg','flatirons.jpg','onesimply.jpg']\n",
    "scores = [calculate_bleu(p) for p in paths]"
   ]
  },
  {
   "cell_type": "code",
   "execution_count": 200,
   "metadata": {
    "ExecuteTime": {
     "end_time": "2018-05-01T18:55:47.096897Z",
     "start_time": "2018-05-01T18:55:47.092191Z"
    }
   },
   "outputs": [
    {
     "name": "stdout",
     "output_type": "stream",
     "text": [
      "AVG: 0.3538443220191876 ±0.1988791713797418\n"
     ]
    }
   ],
   "source": [
    "print('AVG: %s ±%s' % (np.average(scores),np.std(scores)))"
   ]
  }
 ],
 "metadata": {
  "kernelspec": {
   "display_name": "Python 3",
   "language": "python",
   "name": "python3"
  },
  "language_info": {
   "codemirror_mode": {
    "name": "ipython",
    "version": 3
   },
   "file_extension": ".py",
   "mimetype": "text/x-python",
   "name": "python",
   "nbconvert_exporter": "python",
   "pygments_lexer": "ipython3",
   "version": "3.6.3"
  }
 },
 "nbformat": 4,
 "nbformat_minor": 2
}
