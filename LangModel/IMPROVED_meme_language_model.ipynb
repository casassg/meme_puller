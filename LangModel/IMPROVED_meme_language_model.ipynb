{
 "cells": [
  {
   "cell_type": "code",
   "execution_count": 1,
   "metadata": {
    "ExecuteTime": {
     "end_time": "2018-04-27T18:28:34.043989Z",
     "start_time": "2018-04-27T18:28:31.875662Z"
    },
    "scrolled": true
   },
   "outputs": [
    {
     "name": "stderr",
     "output_type": "stream",
     "text": [
      "/Users/admin/anaconda3/lib/python3.6/site-packages/h5py/__init__.py:34: FutureWarning: Conversion of the second argument of issubdtype from `float` to `np.floating` is deprecated. In future, it will be treated as `np.float64 == np.dtype(float).type`.\n",
      "  from ._conv import register_converters as _register_converters\n",
      "Using TensorFlow backend.\n"
     ]
    }
   ],
   "source": [
    "from numpy import array\n",
    "from pickle import dump\n",
    "from keras.preprocessing.text import Tokenizer\n",
    "from keras.utils import to_categorical\n",
    "from keras.models import Sequential\n",
    "from keras.layers import Dense\n",
    "from keras.layers import LSTM\n",
    "from keras.layers import Embedding"
   ]
  },
  {
   "cell_type": "code",
   "execution_count": 5,
   "metadata": {
    "ExecuteTime": {
     "end_time": "2018-04-27T18:29:52.460228Z",
     "start_time": "2018-04-27T18:29:52.413243Z"
    },
    "scrolled": true
   },
   "outputs": [],
   "source": [
    "import json\n",
    "import string\n",
    "\n",
    "r = open('../results/fixed_results.json', 'r').read()\n",
    "e = json.loads(r)\n",
    "\n",
    "caps_list = []\n",
    "for meme in e:\n",
    "    this_meme = []\n",
    "    try:\n",
    "        caption, classes, title = meme\n",
    "    except:\n",
    "        classes, title = meme\n",
    "    this_meme.extend([classes[0]])\n",
    "    if len(caption) is 0 and len(title) is 0:\n",
    "        break\n",
    "    elif len(caption) < len(title):\n",
    "        tokens = title.split()\n",
    "    else: \n",
    "        tokens = caption.split()\n",
    "    # remove punctuation from each token\n",
    "    table = str.maketrans('', '', string.punctuation)\n",
    "    tokens = [w.translate(table) for w in tokens]\n",
    "    # remove remaining tokens that are not alphabetic\n",
    "    tokens = [word for word in tokens if word.isalpha()]\n",
    "    # make lower case\n",
    "    tokens = [word.lower() for word in tokens]\n",
    "    this_meme.extend(tokens)\n",
    "    caps_list.append(' '.join(this_meme))"
   ]
  },
  {
   "cell_type": "code",
   "execution_count": 7,
   "metadata": {
    "ExecuteTime": {
     "end_time": "2018-04-27T18:30:21.400465Z",
     "start_time": "2018-04-27T18:30:21.357862Z"
    },
    "scrolled": true
   },
   "outputs": [],
   "source": [
    "r2 = open('../results/fixed_results_dankmemes.json', 'r').read()\n",
    "e2 = json.loads(r2)\n",
    "\n",
    "for meme in e2:\n",
    "    try:\n",
    "        this_meme = []\n",
    "        try:\n",
    "            caption, classes, title = meme\n",
    "        except:\n",
    "            classes, title = meme\n",
    "        this_meme.extend([classes[0]])\n",
    "        if len(caption) is 0 and len(title) is 0:\n",
    "            break\n",
    "        elif len(caption) < len(title):\n",
    "            tokens = title.split()\n",
    "        else: \n",
    "            tokens = caption.split()\n",
    "        # remove punctuation from each token\n",
    "        table = str.maketrans('', '', string.punctuation)\n",
    "        tokens = [w.translate(table) for w in tokens]\n",
    "        # remove remaining tokens that are not alphabetic\n",
    "        tokens = [word for word in tokens if word.isalpha()]\n",
    "        # make lower case\n",
    "        tokens = [word.lower() for word in tokens]\n",
    "        this_meme.extend(tokens)\n",
    "        caps_list.append(' '.join(this_meme))\n",
    "    except:\n",
    "        continue"
   ]
  },
  {
   "cell_type": "code",
   "execution_count": 23,
   "metadata": {
    "ExecuteTime": {
     "end_time": "2018-04-27T18:51:48.815379Z",
     "start_time": "2018-04-27T18:51:48.805745Z"
    },
    "collapsed": true,
    "scrolled": true
   },
   "outputs": [],
   "source": [
    "def load_doc(filename):\n",
    "    file = open(filename, 'r')\n",
    "    text = file.read().split('\\n')\n",
    "    file.close()\n",
    "    return text\n",
    "\n",
    "def save_doc(lines, filename):\n",
    "    data = '\\n'.join(lines)\n",
    "    file = open(filename, 'w')\n",
    "    file.write(data)\n",
    "    file.close()"
   ]
  },
  {
   "cell_type": "code",
   "execution_count": 9,
   "metadata": {
    "ExecuteTime": {
     "end_time": "2018-04-27T18:30:24.999836Z",
     "start_time": "2018-04-27T18:30:24.981257Z"
    },
    "scrolled": true
   },
   "outputs": [
    {
     "name": "stdout",
     "output_type": "stream",
     "text": [
      "Total Sequences: 2231\n"
     ]
    }
   ],
   "source": [
    "# organize into sequences of 10 tokens\n",
    "sequences = list()\n",
    "for caption in caps_list:\n",
    "    cs = caption.split()\n",
    "    len_cs = len(cs)\n",
    "    if len_cs > 10:\n",
    "        cs = cs[:10]\n",
    "        len_cs = 10\n",
    "    cs.extend(['PADDING']*9)\n",
    "    for i in range(len_cs):\n",
    "        # select sequence of tokens\n",
    "        seq = cs[i:i+10]\n",
    "        # convert into a line for printing to the text file\n",
    "        line = ' '.join(seq)\n",
    "        # store\n",
    "        sequences.append(line)\n",
    "\n",
    "print('Total Sequences: %d' % len(sequences))"
   ]
  },
  {
   "cell_type": "code",
   "execution_count": 12,
   "metadata": {
    "ExecuteTime": {
     "end_time": "2018-04-27T18:33:48.440522Z",
     "start_time": "2018-04-27T18:33:48.433392Z"
    },
    "scrolled": true
   },
   "outputs": [],
   "source": [
    "out_filename = 'padded_captions.txt'\n",
    "save_doc(sequences, out_filename)"
   ]
  },
  {
   "cell_type": "code",
   "execution_count": 24,
   "metadata": {
    "ExecuteTime": {
     "end_time": "2018-04-27T18:51:51.763539Z",
     "start_time": "2018-04-27T18:51:51.750799Z"
    }
   },
   "outputs": [],
   "source": [
    "from keras.utils.data_utils import get_file\n",
    "\n",
    "path = get_file('padded_captions.txt', origin='https://raw.githubusercontent.com/casassg/meme_puller/master/LangModel/padded_captions.txt')\n",
    "sequences = load_doc(path)"
   ]
  },
  {
   "cell_type": "code",
   "execution_count": 25,
   "metadata": {
    "ExecuteTime": {
     "end_time": "2018-04-27T18:51:53.186117Z",
     "start_time": "2018-04-27T18:51:53.114741Z"
    },
    "scrolled": true
   },
   "outputs": [],
   "source": [
    "#convert back to lists of tokens for the tokenizer\n",
    "lines = []\n",
    "for seq in sequences:\n",
    "    lines.append(seq.split())\n",
    "\n",
    "# integer encode sequences of words\n",
    "tokenizer = Tokenizer()\n",
    "tokenizer.fit_on_texts(lines)\n",
    "sequences = tokenizer.texts_to_sequences(lines)\n",
    "\n",
    "# vocabulary size\n",
    "vocab_size = len(tokenizer.word_index) + 1\n",
    "\n",
    "# separate into input and output\n",
    "sequences = array(sequences)\n",
    "\n",
    "X, y = sequences[:,:-1], sequences[:,-1]\n",
    "y = to_categorical(y, num_classes=vocab_size)\n",
    "seq_length = X.shape[1]"
   ]
  },
  {
   "cell_type": "code",
   "execution_count": 26,
   "metadata": {
    "ExecuteTime": {
     "end_time": "2018-04-27T18:51:56.437225Z",
     "start_time": "2018-04-27T18:51:56.131060Z"
    },
    "scrolled": true
   },
   "outputs": [
    {
     "name": "stdout",
     "output_type": "stream",
     "text": [
      "_________________________________________________________________\n",
      "Layer (type)                 Output Shape              Param #   \n",
      "=================================================================\n",
      "embedding_2 (Embedding)      (None, 9, 50)             58950     \n",
      "_________________________________________________________________\n",
      "lstm_3 (LSTM)                (None, 9, 100)            60400     \n",
      "_________________________________________________________________\n",
      "lstm_4 (LSTM)                (None, 100)               80400     \n",
      "_________________________________________________________________\n",
      "dense_3 (Dense)              (None, 100)               10100     \n",
      "_________________________________________________________________\n",
      "dense_4 (Dense)              (None, 1179)              119079    \n",
      "=================================================================\n",
      "Total params: 328,929\n",
      "Trainable params: 328,929\n",
      "Non-trainable params: 0\n",
      "_________________________________________________________________\n",
      "None\n"
     ]
    }
   ],
   "source": [
    "model = Sequential()\n",
    "model.add(Embedding(vocab_size, 50, input_length=seq_length))\n",
    "model.add(LSTM(100, return_sequences=True))\n",
    "model.add(LSTM(100))\n",
    "model.add(Dense(100, activation='relu'))\n",
    "model.add(Dense(vocab_size, activation='softmax'))\n",
    "print(model.summary())"
   ]
  },
  {
   "cell_type": "code",
   "execution_count": 27,
   "metadata": {
    "ExecuteTime": {
     "end_time": "2018-04-27T18:53:30.822395Z",
     "start_time": "2018-04-27T18:51:57.971943Z"
    },
    "scrolled": true
   },
   "outputs": [
    {
     "name": "stdout",
     "output_type": "stream",
     "text": [
      "Epoch 1/50\n",
      "2231/2231 [==============================] - 3s 1ms/step - loss: 6.7019 - acc: 0.8839\n",
      "Epoch 2/50\n",
      "2231/2231 [==============================] - 2s 691us/step - loss: 1.3651 - acc: 0.9364\n",
      "Epoch 3/50\n",
      "2231/2231 [==============================] - 1s 659us/step - loss: 0.7879 - acc: 0.9364\n",
      "Epoch 4/50\n",
      "2231/2231 [==============================] - 2s 684us/step - loss: 0.5836 - acc: 0.9364\n",
      "Epoch 5/50\n",
      "2231/2231 [==============================] - 2s 685us/step - loss: 0.5640 - acc: 0.9364\n",
      "Epoch 6/50\n",
      "2231/2231 [==============================] - 2s 775us/step - loss: 0.5502 - acc: 0.9364\n",
      "Epoch 7/50\n",
      "2231/2231 [==============================] - 2s 808us/step - loss: 0.5428 - acc: 0.9364\n",
      "Epoch 8/50\n",
      "2231/2231 [==============================] - 2s 783us/step - loss: 0.5363 - acc: 0.9364\n",
      "Epoch 9/50\n",
      "2231/2231 [==============================] - 2s 770us/step - loss: 0.5262 - acc: 0.9368\n",
      "Epoch 10/50\n",
      "2231/2231 [==============================] - 2s 774us/step - loss: 0.5082 - acc: 0.9368 1s - loss: 0.56\n",
      "Epoch 11/50\n",
      "2231/2231 [==============================] - 2s 722us/step - loss: 0.4791 - acc: 0.9368\n",
      "Epoch 12/50\n",
      "2231/2231 [==============================] - 2s 785us/step - loss: 0.4390 - acc: 0.9368\n",
      "Epoch 13/50\n",
      "2231/2231 [==============================] - 2s 812us/step - loss: 0.3985 - acc: 0.9372\n",
      "Epoch 14/50\n",
      "2231/2231 [==============================] - 2s 740us/step - loss: 0.3769 - acc: 0.9368\n",
      "Epoch 15/50\n",
      "2231/2231 [==============================] - 2s 775us/step - loss: 0.3582 - acc: 0.9372\n",
      "Epoch 16/50\n",
      "2231/2231 [==============================] - 2s 761us/step - loss: 0.3461 - acc: 0.9372\n",
      "Epoch 17/50\n",
      "2231/2231 [==============================] - 2s 747us/step - loss: 0.3343 - acc: 0.9368\n",
      "Epoch 18/50\n",
      "2231/2231 [==============================] - 2s 882us/step - loss: 0.3269 - acc: 0.9372\n",
      "Epoch 19/50\n",
      "2231/2231 [==============================] - 2s 879us/step - loss: 0.3177 - acc: 0.9372\n",
      "Epoch 20/50\n",
      "2231/2231 [==============================] - 2s 873us/step - loss: 0.3085 - acc: 0.9368 1s - loss: 0.37\n",
      "Epoch 21/50\n",
      "2231/2231 [==============================] - 2s 806us/step - loss: 0.3030 - acc: 0.9364\n",
      "Epoch 22/50\n",
      "2231/2231 [==============================] - 2s 777us/step - loss: 0.2977 - acc: 0.9368 0s - loss: 0.2899 - acc\n",
      "Epoch 23/50\n",
      "2231/2231 [==============================] - 2s 792us/step - loss: 0.2962 - acc: 0.9372\n",
      "Epoch 24/50\n",
      "2231/2231 [==============================] - 2s 856us/step - loss: 0.2938 - acc: 0.9364\n",
      "Epoch 25/50\n",
      "2231/2231 [==============================] - 2s 977us/step - loss: 0.2910 - acc: 0.9377\n",
      "Epoch 26/50\n",
      "2231/2231 [==============================] - 2s 825us/step - loss: 0.2892 - acc: 0.9372\n",
      "Epoch 27/50\n",
      "2231/2231 [==============================] - 2s 813us/step - loss: 0.2880 - acc: 0.9372\n",
      "Epoch 28/50\n",
      "2231/2231 [==============================] - 2s 934us/step - loss: 0.2884 - acc: 0.9372\n",
      "Epoch 29/50\n",
      "2231/2231 [==============================] - 2s 878us/step - loss: 0.2857 - acc: 0.9372\n",
      "Epoch 30/50\n",
      "2231/2231 [==============================] - 2s 805us/step - loss: 0.2842 - acc: 0.9368\n",
      "Epoch 31/50\n",
      "2231/2231 [==============================] - 2s 757us/step - loss: 0.2832 - acc: 0.9368\n",
      "Epoch 32/50\n",
      "2231/2231 [==============================] - 2s 800us/step - loss: 0.2878 - acc: 0.9364\n",
      "Epoch 33/50\n",
      "2231/2231 [==============================] - 2s 781us/step - loss: 0.2860 - acc: 0.9368\n",
      "Epoch 34/50\n",
      "2231/2231 [==============================] - 2s 910us/step - loss: 0.2837 - acc: 0.9364\n",
      "Epoch 35/50\n",
      "2231/2231 [==============================] - 2s 988us/step - loss: 0.2834 - acc: 0.9368\n",
      "Epoch 36/50\n",
      "2231/2231 [==============================] - 2s 952us/step - loss: 0.2820 - acc: 0.9372\n",
      "Epoch 37/50\n",
      "2231/2231 [==============================] - 2s 770us/step - loss: 0.2769 - acc: 0.9372\n",
      "Epoch 38/50\n",
      "2231/2231 [==============================] - 2s 752us/step - loss: 0.2746 - acc: 0.9372\n",
      "Epoch 39/50\n",
      "2231/2231 [==============================] - 2s 804us/step - loss: 0.2742 - acc: 0.9368\n",
      "Epoch 40/50\n",
      "2231/2231 [==============================] - 2s 816us/step - loss: 0.2724 - acc: 0.9364\n",
      "Epoch 41/50\n",
      "2231/2231 [==============================] - 2s 773us/step - loss: 0.2700 - acc: 0.9372\n",
      "Epoch 42/50\n",
      "2231/2231 [==============================] - 2s 773us/step - loss: 0.2690 - acc: 0.9368\n",
      "Epoch 43/50\n",
      "2231/2231 [==============================] - 2s 758us/step - loss: 0.2670 - acc: 0.9377\n",
      "Epoch 44/50\n",
      "2231/2231 [==============================] - 2s 782us/step - loss: 0.2649 - acc: 0.9381\n",
      "Epoch 45/50\n",
      "2231/2231 [==============================] - 2s 832us/step - loss: 0.2628 - acc: 0.9377\n",
      "Epoch 46/50\n",
      "2231/2231 [==============================] - 2s 931us/step - loss: 0.2613 - acc: 0.9386\n",
      "Epoch 47/50\n",
      "2231/2231 [==============================] - 2s 957us/step - loss: 0.2607 - acc: 0.9404\n",
      "Epoch 48/50\n",
      "2231/2231 [==============================] - 2s 887us/step - loss: 0.2614 - acc: 0.9399\n",
      "Epoch 49/50\n",
      "2231/2231 [==============================] - 2s 771us/step - loss: 0.2776 - acc: 0.9399\n",
      "Epoch 50/50\n",
      "2231/2231 [==============================] - 2s 833us/step - loss: 0.2786 - acc: 0.9377\n"
     ]
    },
    {
     "data": {
      "text/plain": [
       "<keras.callbacks.History at 0x117f92c18>"
      ]
     },
     "execution_count": 27,
     "metadata": {},
     "output_type": "execute_result"
    }
   ],
   "source": [
    "# compile model\n",
    "model.compile(loss='categorical_crossentropy', optimizer='adam', metrics=['accuracy'])\n",
    "# fit model\n",
    "model.fit(X, y, batch_size=128, epochs=50)"
   ]
  },
  {
   "cell_type": "code",
   "execution_count": 16,
   "metadata": {
    "ExecuteTime": {
     "end_time": "2018-04-27T18:38:43.289127Z",
     "start_time": "2018-04-27T18:38:43.099228Z"
    },
    "collapsed": true,
    "scrolled": true
   },
   "outputs": [],
   "source": [
    "# save the model to file\n",
    "model.save('caption_model_improved.h5')\n",
    "# save the tokenizer\n",
    "dump(tokenizer, open('caption_tokenizer_improved.pkl', 'wb'))"
   ]
  },
  {
   "cell_type": "code",
   "execution_count": 20,
   "metadata": {
    "ExecuteTime": {
     "end_time": "2018-04-27T18:42:27.756118Z",
     "start_time": "2018-04-27T18:42:27.749365Z"
    }
   },
   "outputs": [
    {
     "data": {
      "text/plain": [
       "array([ 17, 950, 830, 722,   1,   1,   1,   1,   1,   1])"
      ]
     },
     "execution_count": 20,
     "metadata": {},
     "output_type": "execute_result"
    }
   ],
   "source": [
    "sequences[0]"
   ]
  },
  {
   "cell_type": "code",
   "execution_count": 19,
   "metadata": {
    "ExecuteTime": {
     "end_time": "2018-04-27T18:39:28.219864Z",
     "start_time": "2018-04-27T18:39:24.308685Z"
    },
    "scrolled": true
   },
   "outputs": [
    {
     "name": "stdout",
     "output_type": "stream",
     "text": [
      "seed text: \n",
      "\n",
      "comic_book\n",
      "\n",
      "generated caption: \n",
      "\n",
      "PADDING PADDING PADDING PADDING PADDING PADDING PADDING PADDING PADDING PADDING\n"
     ]
    }
   ],
   "source": [
    "from random import randint\n",
    "from pickle import load\n",
    "from keras.models import load_model\n",
    "from keras.preprocessing.sequence import pad_sequences\n",
    "\n",
    "# load the model\n",
    "model = load_model('caption_model_improved.h5')\n",
    "tokenizer = load(open('caption_tokenizer_improved.pkl', 'rb'))\n",
    "\n",
    "# load cleaned text sequences\n",
    "in_filename = 'padded_captions.txt'\n",
    "doc = load_doc(in_filename)\n",
    "lines = doc.split('\\n')\n",
    "\n",
    "#classification_result should be the first predicted type generated from gerard's classifier\n",
    "classification_result = ''\n",
    "#loop through lines and find a caption that begins with the same class\n",
    "#use that as seed_text\n",
    "\n",
    "seq_length = 9\n",
    "seed_text = 'comic_book'\n",
    "print('seed text: \\n')\n",
    "print(seed_text + '\\n')\n",
    "\n",
    "#seq_length = len(seed_text)\n",
    "\n",
    "n_words = 10\n",
    "\n",
    "result = list()\n",
    "in_text = seed_text\n",
    "# generate a fixed number of words\n",
    "for _ in range(n_words):\n",
    "    # encode the text as integer\n",
    "    encoded = tokenizer.texts_to_sequences([in_text])[0]\n",
    "    # truncate sequences to a fixed length\n",
    "    encoded = pad_sequences([encoded], maxlen=seq_length, truncating='pre')\n",
    "    # predict probabilities for each word\n",
    "    yhat = model.predict_classes(encoded, verbose=0)\n",
    "    # map predicted word index to word\n",
    "    out_word = ''\n",
    "    for word, index in tokenizer.word_index.items():\n",
    "        if index == yhat:\n",
    "            out_word = word\n",
    "            break\n",
    "    # append to input\n",
    "    in_text += ' ' + out_word\n",
    "    result.append(out_word)\n",
    "    \n",
    "meme_caption = ' '.join(result)\n",
    "print('generated caption: \\n')\n",
    "print(meme_caption)"
   ]
  },
  {
   "cell_type": "code",
   "execution_count": null,
   "metadata": {
    "collapsed": true,
    "scrolled": true
   },
   "outputs": [],
   "source": []
  }
 ],
 "metadata": {
  "kernelspec": {
   "display_name": "Python 3",
   "language": "python",
   "name": "python3"
  },
  "language_info": {
   "codemirror_mode": {
    "name": "ipython",
    "version": 3
   },
   "file_extension": ".py",
   "mimetype": "text/x-python",
   "name": "python",
   "nbconvert_exporter": "python",
   "pygments_lexer": "ipython3",
   "version": "3.6.3"
  }
 },
 "nbformat": 4,
 "nbformat_minor": 2
}
