{
 "cells": [
  {
   "cell_type": "code",
   "execution_count": 109,
   "metadata": {
    "scrolled": true
   },
   "outputs": [],
   "source": [
    "from numpy import array\n",
    "from pickle import dump\n",
    "from keras.preprocessing.text import Tokenizer\n",
    "from keras.utils import to_categorical\n",
    "from keras.models import Sequential\n",
    "from keras.layers import Dense\n",
    "from keras.layers import LSTM\n",
    "from keras.layers import Embedding"
   ]
  },
  {
   "cell_type": "code",
   "execution_count": 161,
   "metadata": {
    "scrolled": true
   },
   "outputs": [],
   "source": [
    "import json\n",
    "import string\n",
    "\n",
    "r = open('results.json', 'r').read()\n",
    "e = json.loads(r)\n",
    "\n",
    "caps_list = []\n",
    "for meme in e:\n",
    "    this_meme = []\n",
    "    caption, classes, title = meme\n",
    "    this_meme.extend([classes[0]])\n",
    "    if len(caption) is 0 and len(title) is 0:\n",
    "        break\n",
    "    elif len(caption) is 0:\n",
    "        tokens = title.split()\n",
    "    else: \n",
    "        tokens = caption.split()\n",
    "    # remove punctuation from each token\n",
    "    table = str.maketrans('', '', string.punctuation)\n",
    "    tokens = [w.translate(table) for w in tokens]\n",
    "    # remove remaining tokens that are not alphabetic\n",
    "    tokens = [word for word in tokens if word.isalpha()]\n",
    "    # make lower case\n",
    "    tokens = [word.lower() for word in tokens]\n",
    "    this_meme.extend(tokens)\n",
    "    caps_list.append(' '.join(this_meme))"
   ]
  },
  {
   "cell_type": "code",
   "execution_count": 162,
   "metadata": {
    "scrolled": true
   },
   "outputs": [],
   "source": [
    "r2 = open('results_dankmemes.json', 'r').read()\n",
    "e2 = json.loads(r2)\n",
    "\n",
    "for meme in e2:\n",
    "    try:\n",
    "        this_meme = []\n",
    "        caption, classes, title = meme\n",
    "        this_meme.extend([classes[0]])\n",
    "        if len(caption) is 0 and len(title) is 0:\n",
    "            break\n",
    "        elif len(caption) is 0:\n",
    "            tokens = title.split()\n",
    "        else: \n",
    "            tokens = caption.split()\n",
    "        # remove punctuation from each token\n",
    "        table = str.maketrans('', '', string.punctuation)\n",
    "        tokens = [w.translate(table) for w in tokens]\n",
    "        # remove remaining tokens that are not alphabetic\n",
    "        tokens = [word for word in tokens if word.isalpha()]\n",
    "        # make lower case\n",
    "        tokens = [word.lower() for word in tokens]\n",
    "        this_meme.extend(tokens)\n",
    "        caps_list.append(' '.join(this_meme))\n",
    "    except:\n",
    "        continue"
   ]
  },
  {
   "cell_type": "code",
   "execution_count": 145,
   "metadata": {
    "scrolled": true
   },
   "outputs": [],
   "source": [
    "def load_doc(filename):\n",
    "    file = open(filename, 'r')\n",
    "    text = file.read()\n",
    "    file.close()\n",
    "    return text\n",
    "\n",
    "def save_doc(lines, filename):\n",
    "    data = '\\n'.join(lines)\n",
    "    file = open(filename, 'w')\n",
    "    file.write(data)\n",
    "    file.close()"
   ]
  },
  {
   "cell_type": "code",
   "execution_count": 170,
   "metadata": {
    "scrolled": true
   },
   "outputs": [
    {
     "name": "stdout",
     "output_type": "stream",
     "text": [
      "Total Sequences: 29842\n"
     ]
    }
   ],
   "source": [
    "# organize into sequences of 10 tokens\n",
    "sequences = list()\n",
    "for caption in caps_list:\n",
    "    cs = caption.split()\n",
    "    len_cs = len(cs)\n",
    "    if len_cs > 10:\n",
    "        cs = cs[:10]\n",
    "        len_cs = 10\n",
    "    cs.extend(['PADDING']*9)\n",
    "    for i in range(len_cs):\n",
    "        # select sequence of tokens\n",
    "        seq = cs[i:i+10]\n",
    "        # convert into a line for printing to the text file\n",
    "        line = ' '.join(seq)\n",
    "        # store\n",
    "        sequences.append(line)\n",
    "\n",
    "print('Total Sequences: %d' % len(sequences))"
   ]
  },
  {
   "cell_type": "code",
   "execution_count": 151,
   "metadata": {
    "scrolled": true
   },
   "outputs": [],
   "source": [
    "out_filename = 'padded_captions.txt'\n",
    "save_doc(sequences, out_filename)"
   ]
  },
  {
   "cell_type": "code",
   "execution_count": 171,
   "metadata": {
    "scrolled": true
   },
   "outputs": [],
   "source": [
    "#convert back to lists of tokens for the tokenizer\n",
    "lines = []\n",
    "for seq in sequences:\n",
    "    lines.append(seq.split())\n",
    "\n",
    "# integer encode sequences of words\n",
    "tokenizer = Tokenizer()\n",
    "tokenizer.fit_on_texts(lines)\n",
    "sequences = tokenizer.texts_to_sequences(lines)\n",
    "\n",
    "# vocabulary size\n",
    "vocab_size = len(tokenizer.word_index) + 1\n",
    "\n",
    "# separate into input and output\n",
    "sequences = array(sequences)\n",
    "\n",
    "X, y = sequences[:,:-1], sequences[:,-1]\n",
    "y = to_categorical(y, num_classes=vocab_size)\n",
    "seq_length = X.shape[1]"
   ]
  },
  {
   "cell_type": "code",
   "execution_count": null,
   "metadata": {
    "scrolled": true
   },
   "outputs": [],
   "source": [
    "model = Sequential()\n",
    "model.add(Embedding(vocab_size, 50, input_length=seq_length))\n",
    "model.add(LSTM(100, return_sequences=True))\n",
    "model.add(LSTM(100))\n",
    "model.add(Dense(100, activation='relu'))\n",
    "model.add(Dense(vocab_size, activation='softmax'))\n",
    "print(model.summary())"
   ]
  },
  {
   "cell_type": "code",
   "execution_count": null,
   "metadata": {
    "scrolled": true
   },
   "outputs": [],
   "source": [
    "# compile model\n",
    "model.compile(loss='categorical_crossentropy', optimizer='adam', metrics=['accuracy'])\n",
    "# fit model\n",
    "model.fit(X, y, batch_size=128, epochs=50)"
   ]
  },
  {
   "cell_type": "code",
   "execution_count": 15,
   "metadata": {
    "scrolled": true
   },
   "outputs": [],
   "source": [
    "# save the model to file\n",
    "model.save('caption_model_improved.h5')\n",
    "# save the tokenizer\n",
    "dump(tokenizer, open('caption_tokenizer_improved.pkl', 'wb'))"
   ]
  },
  {
   "cell_type": "code",
   "execution_count": 23,
   "metadata": {
    "scrolled": true
   },
   "outputs": [
    {
     "name": "stdout",
     "output_type": "stream",
     "text": [
      "are there but when i do i say please dont break anything or set anything on fire no matter how flammable\n",
      "\n"
     ]
    }
   ],
   "source": [
    "from random import randint\n",
    "from pickle import load\n",
    "from keras.models import load_model\n",
    "from keras.preprocessing.sequence import pad_sequences\n",
    "\n",
    "# load the model\n",
    "model = load_model('caption_model_improved.h5')\n",
    "tokenizer = load(open('caption_tokenizer_improved.pkl', 'rb'))\n",
    "\n",
    "# load cleaned text sequences\n",
    "in_filename = 'padded_captions.txt'\n",
    "doc = load_doc(in_filename)\n",
    "lines = doc.split('\\n')\n",
    "\n",
    "#classification_result should be the first predicted type generated from gerard's classifier\n",
    "classification_result = ''\n",
    "#loop through lines and find a caption that begins with the same class\n",
    "#use that as seed_text\n",
    "\n",
    "seq_length = 9\n",
    "\n",
    "print('seed text: \\n')\n",
    "print(seed_text + '\\n')\n",
    "\n",
    "#seq_length = len(seed_text)\n",
    "\n",
    "n_words = 10\n",
    "\n",
    "result = list()\n",
    "in_text = seed_text\n",
    "# generate a fixed number of words\n",
    "for _ in range(n_words):\n",
    "    # encode the text as integer\n",
    "    encoded = tokenizer.texts_to_sequences([in_text])[0]\n",
    "    # truncate sequences to a fixed length\n",
    "    encoded = pad_sequences([encoded], maxlen=seq_length, truncating='pre')\n",
    "    # predict probabilities for each word\n",
    "    yhat = model.predict_classes(encoded, verbose=0)\n",
    "    # map predicted word index to word\n",
    "    out_word = ''\n",
    "    for word, index in tokenizer.word_index.items():\n",
    "        if index == yhat:\n",
    "            out_word = word\n",
    "            break\n",
    "    # append to input\n",
    "    in_text += ' ' + out_word\n",
    "    result.append(out_word)\n",
    "    \n",
    "meme_caption = ' '.join(result)\n",
    "print('generated caption: \\n')\n",
    "print(meme_caption)"
   ]
  },
  {
   "cell_type": "code",
   "execution_count": null,
   "metadata": {
    "scrolled": true
   },
   "outputs": [],
   "source": []
  }
 ],
 "metadata": {
  "kernelspec": {
   "display_name": "Python 3",
   "language": "python",
   "name": "python3"
  },
  "language_info": {
   "codemirror_mode": {
    "name": "ipython",
    "version": 3
   },
   "file_extension": ".py",
   "mimetype": "text/x-python",
   "name": "python",
   "nbconvert_exporter": "python",
   "pygments_lexer": "ipython3",
   "version": "3.6.3"
  }
 },
 "nbformat": 4,
 "nbformat_minor": 2
}
