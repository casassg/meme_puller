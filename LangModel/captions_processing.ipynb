{
 "cells": [
  {
   "cell_type": "code",
   "execution_count": 5,
   "metadata": {
    "ExecuteTime": {
     "end_time": "2018-04-26T21:50:39.690325Z",
     "start_time": "2018-04-26T21:50:39.638399Z"
    }
   },
   "outputs": [],
   "source": [
    "import json\n",
    "import string\n",
    "\n",
    "r = open('../results/fixed_results.json', 'r').read()\n",
    "e = json.loads(r)\n",
    "\n",
    "caps_list = []\n",
    "for meme in e:\n",
    "    this_meme = []\n",
    "    try:\n",
    "        caption, classes, title = meme\n",
    "    except:\n",
    "        classes, title = meme\n",
    "        caption = ''\n",
    "    this_meme.extend([classes[0]])\n",
    "    if not title and not caption:\n",
    "        break\n",
    "    if len(title)>len(caption): \n",
    "        tokens = title.split()\n",
    "    else:\n",
    "        tokens = caption.split()\n",
    "    # remove punctuation from each token\n",
    "    table = str.maketrans('', '', string.punctuation)\n",
    "    tokens = [w.translate(table) for w in tokens]\n",
    "    # remove remaining tokens that are not alphabetic\n",
    "    tokens = [word for word in tokens if word.isalpha()]\n",
    "    # make lower case\n",
    "    tokens = [word.lower() for word in tokens]\n",
    "    this_meme.extend(tokens)\n",
    "    this_meme.append('STOP')\n",
    "    caps_list.append(' '.join(this_meme))"
   ]
  },
  {
   "cell_type": "code",
   "execution_count": 6,
   "metadata": {
    "ExecuteTime": {
     "end_time": "2018-04-26T21:50:58.503743Z",
     "start_time": "2018-04-26T21:50:58.457879Z"
    },
    "collapsed": true
   },
   "outputs": [],
   "source": [
    "r2 = open('../results/fixed_results_dankmemes.json', 'r').read()\n",
    "e2 = json.loads(r2)\n",
    "\n",
    "for meme in e2:\n",
    "    try:\n",
    "        this_meme = []\n",
    "        try:\n",
    "            caption, classes, title = meme\n",
    "        except:\n",
    "            classes, title = meme\n",
    "            caption = ''\n",
    "        this_meme.extend([classes[0]])\n",
    "        if not title and not caption:\n",
    "            break\n",
    "        if len(title)>len(caption): \n",
    "            tokens = title.split()\n",
    "        else:\n",
    "            tokens = caption.split()\n",
    "        \n",
    "        # remove punctuation from each token\n",
    "        table = str.maketrans('', '', string.punctuation)\n",
    "        tokens = [w.translate(table) for w in tokens]\n",
    "        # remove remaining tokens that are not alphabetic\n",
    "        tokens = [word for word in tokens if word.isalpha()]\n",
    "        # make lower case\n",
    "        tokens = [word.lower() for word in tokens]\n",
    "        this_meme.extend(tokens)\n",
    "        this_meme.append('STOP')\n",
    "        caps_list.append(' '.join(this_meme))\n",
    "    except:\n",
    "        continue\n"
   ]
  },
  {
   "cell_type": "code",
   "execution_count": 7,
   "metadata": {
    "ExecuteTime": {
     "end_time": "2018-04-26T21:51:00.454045Z",
     "start_time": "2018-04-26T21:51:00.444851Z"
    },
    "collapsed": true
   },
   "outputs": [],
   "source": [
    "def load_doc(filename):\n",
    "    file = open(filename, 'r')\n",
    "    text = file.read()\n",
    "    file.close()\n",
    "    return text\n",
    "\n",
    "def save_doc(lines, filename):\n",
    "    data = '\\n'.join(lines)\n",
    "    file = open(filename, 'w')\n",
    "    file.write(data)\n",
    "    file.close()"
   ]
  },
  {
   "cell_type": "code",
   "execution_count": 8,
   "metadata": {
    "ExecuteTime": {
     "end_time": "2018-04-26T21:51:08.754606Z",
     "start_time": "2018-04-26T21:51:08.749281Z"
    },
    "collapsed": true
   },
   "outputs": [],
   "source": [
    "save_doc(caps_list,'fixed_captions.txt')"
   ]
  }
 ],
 "metadata": {
  "kernelspec": {
   "display_name": "Python 3",
   "language": "python",
   "name": "python3"
  },
  "language_info": {
   "codemirror_mode": {
    "name": "ipython",
    "version": 3
   },
   "file_extension": ".py",
   "mimetype": "text/x-python",
   "name": "python",
   "nbconvert_exporter": "python",
   "pygments_lexer": "ipython3",
   "version": "3.6.3"
  }
 },
 "nbformat": 4,
 "nbformat_minor": 2
}
